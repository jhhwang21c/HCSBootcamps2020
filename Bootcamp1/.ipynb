{
 "cells": [
  {
   "cell_type": "code",
   "execution_count": 5,
   "metadata": {},
   "outputs": [],
   "source": [
    "# Facebook data mining bootcamp !!!\n",
    "\n",
    "# important imports \n",
    "import os\n",
    "import json\n",
    "import numpy as np\n",
    "import pylab as pl\n",
    "import datetime\n",
    "from datetime import datetime\n"
   ]
  },
  {
   "cell_type": "code",
   "execution_count": 6,
   "metadata": {},
   "outputs": [],
   "source": [
    "# globals \n",
    "\n",
    "CURRENT_DIRECTORY = os.getcwd()\n",
    "NUMBER_TO_ANALYZE = 700\n",
    "MESSAGE_THRESHOLD = 50\n",
    "MESSAGE_BOUND = 100000\n"
   ]
  },
  {
   "cell_type": "code",
   "execution_count": 29,
   "metadata": {},
   "outputs": [
    {
     "name": "stdout",
     "output_type": "stream",
     "text": [
      "Analyzing 7 chats...\n"
     ]
    }
   ],
   "source": [
    "# get json data for the individual chats in your messages folder \n",
    "\n",
    "def get_json_data(chat):\n",
    "    try:\n",
    "        # you may need to change the directory path, depends on where you've downloaded your fb messages to. \n",
    "        json_location = CURRENT_DIRECTORY + \"/fbSampleData-master/messages/\" + chat + \"/message.json\"\n",
    "        with open(json_location) as json_file:\n",
    "            json_data = json.load(json_file)\n",
    "            return json_data\n",
    "    except IOError:\n",
    "        pass # some things the directory aren't messages (DS_Store, stickers_used, etc.)\n",
    "\n",
    "\n",
    "    \n",
    "# create new globals for data to be plotted \n",
    "chats = os.listdir(CURRENT_DIRECTORY + \"/fbSampleData-master/messages/\")[:NUMBER_TO_ANALYZE]\n",
    "sorted_chats = []\n",
    "final_data_messages = {}\n",
    "final_data_times = {}\n",
    "final_data_words = {}\n",
    "invalid_message_count = 0\n",
    "\n",
    "\n",
    "\n",
    "print('Analyzing ' + str(min(NUMBER_TO_ANALYZE, len(chats))) + ' chats...')\n"
   ]
  },
  {
   "cell_type": "code",
   "execution_count": 30,
   "metadata": {},
   "outputs": [
    {
     "name": "stdout",
     "output_type": "stream",
     "text": [
      "Finished processing chats...\n"
     ]
    }
   ],
   "source": [
    "# sort data into new gobals \n",
    "\n",
    "for chat in chats:\n",
    "    url = chat\n",
    "    json_data = get_json_data(chat)\n",
    "    \n",
    "    if json_data != None:\n",
    "        messages = json_data[\"messages\"]\n",
    "        if len(messages) >= MESSAGE_THRESHOLD and len(messages) <= MESSAGE_BOUND:\n",
    "            sorted_chats.append((len(messages), chat, messages))\n",
    "\n",
    "sorted_chats.sort(reverse=True)\n",
    "\n",
    "print('Finished processing chats...')"
   ]
  },
  {
   "cell_type": "code",
   "execution_count": 31,
   "metadata": {},
   "outputs": [
    {
     "name": "stdout",
     "output_type": "stream",
     "text": [
      "0 - 3492 messages - Catappreciationchat_89e0d454d9\n",
      "1 - 497 messages - Indoorsoccer_ea14b34757\n",
      "2 - 121 messages - michaelwernig_1089dcbaf3\n",
      "3 - 108 messages - kaialangathianos_95580a3269\n",
      "4 - 53 messages - adamdonnelly_8f40ea0790\n",
      "Found 1 invalid messages...\n",
      "Found 5 chats with 50 messages or more\n"
     ]
    }
   ],
   "source": [
    "# continue sorting messages into the new globals (dictionaries)\n",
    "# you may have to alter this code a bit depending on what functions you would like to add\n",
    "\n",
    "\n",
    "for i, (messages, chat, messages) in enumerate(sorted_chats):\n",
    "    number_messages = {}\n",
    "    person_to_times = {}\n",
    "    number_words = {}\n",
    "\n",
    "    print(str(i) + \" - \" + str(len(messages)) + \" messages - \" + str(chat))\n",
    "\n",
    "    for message in messages:\n",
    "        try:\n",
    "            name = message[\"sender_name\"]\n",
    "            time = message[\"timestamp_ms\"]\n",
    "            message_content = message[\"content\"]\n",
    "\n",
    "            number_messages[name] = number_messages.get(name, 0)\n",
    "            number_messages[name] += 1\n",
    "\n",
    "            person_to_times[name] = person_to_times.get(name, [])\n",
    "            person_to_times[name].append(datetime.utcfromtimestamp(time/1000.0))\n",
    "\n",
    "            number_words[name] = number_words.get(name, [])\n",
    "            number_words[name].append(len(message_content.split()))\n",
    "        except KeyError:\n",
    "            # happens for special cases like users who deactivated, unfriended, blocked\n",
    "            invalid_message_count += 1\n",
    "\n",
    "    final_data_messages[i] = number_messages\n",
    "    final_data_times[i] = person_to_times\n",
    "    final_data_words[i] = number_words\n",
    "\n",
    "    \n",
    "\n",
    "print('Found ' + str(invalid_message_count) + ' invalid messages...')\n",
    "print('Found ' + str(len(sorted_chats)) + ' chats with ' + str(MESSAGE_THRESHOLD) + ' messages or more')"
   ]
  },
  {
   "cell_type": "code",
   "execution_count": null,
   "metadata": {},
   "outputs": [],
   "source": [
    "# plotting functions\n",
    "\n",
    "\n",
    "def plot_num_messages(chat_number):\n",
    "    plotted_data = final_data_messages[chat_number]\n",
    "    X = np.arange(len(plotted_data))\n",
    "    pl.bar(X, list(plotted_data.values()), align='center', width=0.5, color = 'r', bottom = 0.3)\n",
    "    pl.xticks(X, plotted_data.keys(), rotation = 90)\n",
    "    pl.title('Number of Messages Sent')\n",
    "    pl.tight_layout()\n",
    "    pl.show()\n",
    "    \n",
    "    \n",
    "def plot_histogram_time(chat_number):\n",
    "    person_to_times = final_data_times[chat_number]\n",
    "    pl.xlabel('Time')\n",
    "    pl.ylabel('Number of Messages')\n",
    "    pl.title('# of Messages Over Time')\n",
    "    colors = ['b', 'r', 'c', 'm', 'y', 'k', 'w', 'g']\n",
    "    for i , person in enumerate(person_to_times):\n",
    "        plotted_data = []\n",
    "        for time in person_to_times[person]:\n",
    "            plotted_data.append(time)\n",
    "        pl.hist(plotted_data, 100, alpha=0.3, label=person, facecolor=colors[i % len(colors)])\n",
    "    pl.legend()\n",
    "    pl.xticks(rotation=90)\n",
    "    pl.tight_layout()\n",
    "    pl.show()\n",
    "\n",
    "    \n",
    "def plot_histogram_words(chat_number):\n",
    "    temp = {}\n",
    "    for person in final_data_words[chat_number]:\n",
    "        temp[person] = np.average(final_data_words[chat_number][person])\n",
    "    plotted_data = temp\n",
    "    X = np.arange(len(plotted_data))\n",
    "    pl.bar(X, list(plotted_data.values()), align='center', width=0.5, color = 'r', bottom = 0.3)\n",
    "    pl.xticks(X, plotted_data.keys(), rotation = 90)\n",
    "    pl.title('Average Word Count')\n",
    "    pl.tight_layout()\n",
    "    pl.show()\n",
    "    \n",
    "def plot(chat_number):\n",
    "    #plot_num_messages(chat_number)\n",
    "    plot_histogram_time(chat_number)\n",
    "    #plot_histogram_words(chat_number)\n",
    "\n",
    "\n",
    "\n",
    "plot(1)"
   ]
  },
  {
   "cell_type": "code",
   "execution_count": null,
   "metadata": {},
   "outputs": [],
   "source": []
  },
  {
   "cell_type": "code",
   "execution_count": null,
   "metadata": {},
   "outputs": [],
   "source": []
  }
 ],
 "metadata": {
  "kernelspec": {
   "display_name": "Python 2",
   "language": "python",
   "name": "python2"
  },
  "language_info": {
   "codemirror_mode": {
    "name": "ipython",
    "version": 2
   },
   "file_extension": ".py",
   "mimetype": "text/x-python",
   "name": "python",
   "nbconvert_exporter": "python",
   "pygments_lexer": "ipython2",
   "version": "2.7.16"
  }
 },
 "nbformat": 4,
 "nbformat_minor": 2
}
